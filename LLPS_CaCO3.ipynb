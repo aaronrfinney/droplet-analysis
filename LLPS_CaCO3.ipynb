{
 "cells": [
  {
   "cell_type": "code",
   "execution_count": 17,
   "metadata": {
    "tags": []
   },
   "outputs": [],
   "source": [
    "import numpy as np\n",
    "import scipy.io\n",
    "%matplotlib inline\n",
    "import matplotlib.pyplot as plt\n",
    "from matplotlib import cm\n",
    "from scipy.optimize import fsolve\n",
    "from scipy.optimize import leastsq\n",
    "from scipy.signal import find_peaks\n",
    "from scipy.integrate import solve_ivp\n",
    "from scipy import signal\n",
    "import scipy as sp\n",
    "\n",
    "import warnings\n",
    "warnings.filterwarnings('ignore')\n",
    "\n",
    "# Plots setup \n",
    "from matplotlib import rc\n",
    "\n",
    "rc('text', usetex=False)\n",
    "plt.rcParams['text.latex.preamble'] = [\n",
    "    r'\\usepackage{tgheros}',    # helvetica font\n",
    "    r'\\usepackage{sansmath}',   # math-font matching  helvetica\n",
    "    r'\\sansmath'                # actually tell tex to use it!\n",
    "    r'\\usepackage{siunitx}',    # micro symbols\n",
    "    r'\\sisetup{detect-all}',    # force siunitx to use the fonts\n",
    "]  \n",
    "plt.rcParams.update({\"font.size\": 18})\n",
    "plw = 0.6\n",
    "pcs = 3\n",
    "pms = 3\n",
    "bfillc = [0.9,0.9,0.9]\n",
    "plt.rcParams['axes.linewidth'] = plw\n",
    "plt.rcParams['xtick.top'] = True\n",
    "plt.rcParams['xtick.direction'] = 'in'\n",
    "plt.rcParams['xtick.major.width'] = plw\n",
    "plt.rcParams['xtick.minor.width'] = plw\n",
    "plt.rcParams['xtick.minor.visible'] = True\n",
    "plt.rcParams['xtick.major.size'] = 4.5\n",
    "plt.rcParams['ytick.right'] = True\n",
    "plt.rcParams['ytick.direction'] = 'in'\n",
    "plt.rcParams['ytick.major.width'] = plw\n",
    "plt.rcParams['ytick.minor.width'] = plw\n",
    "plt.rcParams['ytick.minor.visible'] = True\n",
    "plt.rcParams['ytick.major.size'] = 5\n",
    "plt.rcParams[\"figure.figsize\"] = (5,4)\n",
    "\n",
    "from matplotlib.ticker import (MultipleLocator,\n",
    "                               FormatStrFormatter,\n",
    "                               AutoMinorLocator)"
   ]
  },
  {
   "cell_type": "markdown",
   "metadata": {
    "tags": []
   },
   "source": [
    "# Thermodynamics and kinetics of CaCO3 Liquid/Liquid phase separation in confined volumes.\n",
    "\n",
    "Aaron Finney and Matteo Salvalaglio\n",
    "\n",
    "_Last updated 27/09/2022_\n",
    "\n",
    "## Chemical Potential of CaCO$_3$ and solvent in the dilute and dense phases\n",
    "Let's consider two liquid phases, $\\ell$ diluited in the solute (CaCO$_3$), and $L$ dense in the solute specie. The chemical potential of the solute in the dilute phase, can be written as: \n",
    "\\begin{equation}\n",
    "\\mu^{\\ell}=\\mu_0+kT\\ln{a_i^\\ell}\\approx{\\mu_0+kT\\ln{x^\\ell}}\n",
    "\\end{equation}\n",
    "where $\\mu_0$ is a reference chemical potential and ${a_i^\\ell}$ is the activity of the solute in the dilute phase, and $x^\\ell$ is its molar fraction. Analogously, the chemical potential of the solute in the dense phase $L$ in equilibrium with $\\ell$ at temperature T and pressure P can be written as: \n",
    "\\begin{equation}\n",
    "\\mu^{L}=\\mu_0+RT\\ln{a^{\\ell,*}}\\approx{\\mu_0+kT\\ln{x^\\ell,*}}\n",
    "\\end{equation}\n",
    "where $a^{\\ell,*}$ is the activity of the solute in a dilute phase $\\ell$ in equilibrium ($*$) with the dense phase, and $x^\\ell,*$ the molar fraction in the same conditions. \n",
    "If the system is a binary solution the solvent chemical potential in the dilute and dense phases can be written in an analogous manner: \n",
    "\\begin{equation}\n",
    "\\mu_s^{\\ell}\\approx{\\mu_0+kT\\ln{1-x^\\ell}}\n",
    "\\end{equation}\n",
    "and \n",
    "\\begin{equation}\n",
    "\\mu_i^{L}=\\mu_0+RT\\ln{a_i^{\\ell,*}}\\approx{\\mu_0+kT\\ln{x^\\ell,*}}\n",
    "\\end{equation}\n",
    "## Molar fraction in the dilute phase\n",
    "When the dense and dilute phase coexist a confined volume, unable to exchange with an external reservoir, the molar fraction $x$ becomes a function of the number of molecules in the dense phase. In the case of a multicomponent system, where both the dilute $\\ell$ and dense phase $L$ contain both solute and solvent the molar fraction x can be written as: \n",
    "\\begin{equation}\n",
    "x\\frac{n_{tot}-n_L}{n_{tot}+n^s_{tot}-n_L-n^s_{tot}}\n",
    "\\end{equation}\n",
    "where $n_{tot}$ is the total number of solute molecules, $n_L$ the number of solute molecules in the dense phase, $n^s_{tot}$ the total number of solvent molecules, and $n^s_{L}\n",
    "$ the number of solvent molecules in the dense phase. \n",
    "By considering the level of solvation constant with the size of the dense phase droplet a solvent/solute ratio $\\phi$ can be itroduced, leading to the following expression for the solute molar fraction in the diluite phase: \n",
    "\\begin{equation}\n",
    "x\\frac{n_{tot}-n_L}{n_{tot}+n^s_{tot}-(1+\\phi)n_L}\n",
    "\\end{equation}\n",
    "## Free Energy of a simulation box: \n",
    "The Free energy of a simulation box containing $n_{tot}$ solute molecules and $n^s_{tot}$ solvent molecules, of which n_L in the dense liquid phase can thus be written as: \n",
    "\\begin{equation}\n",
    "F(n_L)=n_{tot}\\mu^\\ell-n_L(\\mu^\\ell-\\mu^L)+n_{tot}^s\\mu_s^\\ell-n_L\\phi(\\mu_s^\\ell-\\mu_s^L)\n",
    "\\end{equation}\n",
    "The free energy of the same simulation box in absence of a droplet is instead: \n",
    "\\begin{equation}\n",
    "F(n_L=0)=n_{tot}\\mu_0^\\ell+n_{tot}^s\\mu_{s,0}^\\ell\n",
    "\\end{equation}\n",
    "As such the $\\Delta{F}$ of formation of a droplet from an initial homogeneous solution is: \n",
    "\\begin{equation}\n",
    "\\Delta{F}(n_L)=n_{tot}(\\mu^\\ell-\\mu_0^\\ell)+n_{tot}^s(\\mu_s^\\ell-\\mu_{s,0}^\\ell)-n_L\\left[(\\mu^\\ell-\\mu^L)+\\phi(\\mu_s^\\ell-\\mu_s^L)\\right]\n",
    "\\end{equation}\n",
    "\n",
    "Introducing now the definitions of chemical potential and molar fraction of solute, we obtain: \n",
    "\\begin{equation}\n",
    "\\beta\\Delta{F}(n_L)=n_{tot}\\ln\\frac{x}{x_0}+n_{tot}^s\\ln\\frac{1-x}{1-x_0}-n_L\\left(\\ln\\frac{x}{x^*}+\\phi\\ln\\frac{1-x}{1-x^*}\\right)\n",
    "\\end{equation}\n",
    "\n"
   ]
  },
  {
   "cell_type": "markdown",
   "metadata": {
    "tags": []
   },
   "source": [
    "## Steady state droplet conditions\n",
    "\n",
    "The local minimum of the reversible work of droplet formation identifies the steady state, equilibrium condition for a droplet of dense phase $L$, that nucleates and grows from a dilute phase of volume $V_{tot}$ and initial number of solute molecules $n_{tot}$. This condition corresponds to a stationary point in the $\\Delta{F(n_L)}$ curve, where $\\frac{d\\Delta{F}}{dn_L}=0$ and the mean thermodynamic force acting on the dense phase droplet is null. \n",
    "The thermodynamic force driving the droplet evolution is \n",
    "\\begin{equation}\n",
    "\\frac{d\\beta\\Delta{F}}{d{n_L}}=\\frac{\\phi{n_{tot}}-n^s_{tot}}{(n_{tot}+n^s_{tot}-(1+\\phi)n_L)^2}\\left[\\frac{n_{tot}}{x}+\\frac{n^s_{tot}}{x-1}\\right] - \\ln{\\frac{x}{x^*}}- \\phi\\ln{\\frac{1-x}{1-x^*}}-\\frac{n_L(n_{tot}\\phi-n^s_{tot})}{n_{tot}+n^s_{tot}-(1+\\phi)n_L}\\left(\\frac{1}{n_{tot}-n_L}-\\frac{\\phi}{n^s_{tot}-\\phi{n_L}}\\right)\n",
    "\\end{equation}\n",
    "### Fig.1 Reversibe work of droplet formation and Mean Thermodynamic Force"
   ]
  },
  {
   "cell_type": "code",
   "execution_count": 89,
   "metadata": {},
   "outputs": [],
   "source": [
    "#Define Functions -> Free Energy\n",
    "\n",
    "X=lambda nL, ntot, phi, nstot,: (ntot-nL)/(ntot+nstot-(1+phi)*nL)\n",
    "\n",
    "Nltot=lambda nL, ntot, phi, nstot,: (ntot+nstot-(1+phi)*nL)\n",
    "\n",
    "#F=lambda nL, ntot, phi, nstot, xstar, betasigmaprime, : \\\n",
    "#                                -nL*(np.log(X(nL,ntot,phi,nstot)/xstar)) \\\n",
    "#                                +phi*np.log((1-X(nL,ntot,phi,nstot))/(1-xstar))\\\n",
    "#                                +ntot*np.log(X(nL,ntot,phi,nstot)/X(0,ntot,phi,nstot)) \\\n",
    "#                                +nstot*np.log((1-X(nL,ntot,phi,nstot))/(1-X(0,ntot,phi,nstot))) \\\n",
    "#                                +betasigmaprime*np.power((nL*(1+phi)),2/3)\n",
    "\n",
    "F=lambda nL, ntot, phi, nstot, xstar, betasigmaprime, : \\\n",
    "                                -nL*(np.log(X(nL,ntot,phi,nstot)/xstar)) \\\n",
    "                                -nL*phi*np.log((1-X(nL,ntot,phi,nstot))/(1-xstar))\\\n",
    "                                +ntot*np.log(X(nL,ntot,phi,nstot)/X(0,ntot,phi,nstot)) \\\n",
    "                                +nstot*np.log((1-X(nL,ntot,phi,nstot))/(1-X(0,ntot,phi,nstot))) \\\n",
    "                                +betasigmaprime*np.power((nL*(1+phi)),2/3)\n",
    "\n",
    "#dFdnL=lambda nL, ntot, phi, nstot, xstar, betasigmaprime, : \\\n",
    "#                                            (phi*ntot-nstot)/np.power(Nltot(nL,ntot,phi,nstot),2)*(ntot/X(nL,ntot,phi,nstot)+nstot/(X(nL,ntot,phi,nstot)-1)) \\\n",
    "#                                            -np.log(X(nL,ntot,phi,nstot)/xstar)-phi*np.log((1-X(nL,ntot,phi,nstot)/(1-xstar))) \\\n",
    "#                                            -nL*(ntot*phi-nstot)/Nltot(nL,ntot,phi,nstot)*(1/(ntot-nL)-phi/(nstot-phi*nL)) \\\n",
    "#                                            +2/3*betasigmaprime*np.power((1+phi),2/3)*np.power((nL*(1+phi)),-1/3)\n",
    "\n",
    "dFdnL=lambda nL, ntot, phi, nstot, xstar, betasigmaprime, : \\\n",
    "                                            (phi*ntot-nstot)/np.power(Nltot(nL,ntot,phi,nstot),2)*(ntot/X(nL,ntot,phi,nstot)+nstot/(X(nL,ntot,phi,nstot)-1)) \\\n",
    "                                            -np.log(X(nL,ntot,phi,nstot)/xstar)-phi*np.log((1-X(nL,ntot,phi,nstot)/(1-xstar))) \\\n",
    "                                            -nL*(ntot*phi-nstot)/Nltot(nL,ntot,phi,nstot)*(1/(ntot-nL)-phi/(nstot-phi*nL)) \\\n",
    "                                            +(2*betasigmaprime*np.power((1+phi)*nL,2/3)) / (3*nL)\n",
    "\n"
   ]
  },
  {
   "cell_type": "code",
   "execution_count": 101,
   "metadata": {},
   "outputs": [
    {
     "name": "stdout",
     "output_type": "stream",
     "text": [
      "26.08695652173913\n",
      "26.08361204013378\n",
      "217.7257525083612\n",
      "217.72240802675586\n"
     ]
    },
    {
     "data": {
      "text/plain": [
       "array([       nan, 4.30223305, 2.94437066, 2.28548698, 1.87027968,\n",
       "       1.5754289 , 1.35100486, 1.17223412, 1.02517308, 0.90126301,\n",
       "       0.79490588, 0.70225756, 0.62057455, 0.54783662, 0.48251701,\n",
       "       0.42343644, 0.36966681, 0.32046587, 0.27523152, 0.2334693 ,\n",
       "       0.19476863, 0.15878519, 0.12522769, 0.09384772, 0.06443187,\n",
       "       0.03679561, 0.01077839, 0.01376025, 0.03694383, 0.05888149,\n",
       "       0.07967008, 0.09939593, 0.11813624, 0.13596035, 0.1529307 ,\n",
       "       0.16910372, 0.18453056, 0.1992577 , 0.2133275 , 0.22677865,\n",
       "       0.23964658, 0.25196381, 0.26376026, 0.27506346, 0.28589888,\n",
       "       0.29629004, 0.30625876, 0.31582526, 0.32500836, 0.33382559,\n",
       "       0.34229326, 0.35042662, 0.35823993, 0.36574653, 0.37295891,\n",
       "       0.37988881, 0.38654724, 0.39294457, 0.39909054, 0.40499435,\n",
       "       0.41066465, 0.41610964, 0.42133702, 0.42635412, 0.43116785,\n",
       "       0.43578475, 0.44021103, 0.44445258, 0.44851498, 0.45240355,\n",
       "       0.45612331, 0.45967908, 0.46307541, 0.46631664, 0.46940691,\n",
       "       0.47235016, 0.47515016, 0.47781048, 0.48033454, 0.48272563,\n",
       "       0.48498684, 0.48712117, 0.48913147, 0.49102045, 0.49279073,\n",
       "       0.49444478, 0.49598501, 0.49741369, 0.49873301, 0.49994505,\n",
       "       0.50105182, 0.50205525, 0.50295717, 0.50375934, 0.50446345,\n",
       "       0.50507111, 0.50558388, 0.50600325, 0.50633062, 0.50656737,\n",
       "       0.50671481, 0.50677418, 0.50674668, 0.50663346, 0.50643561,\n",
       "       0.50615419, 0.50579021, 0.50534462, 0.50481834, 0.50421225,\n",
       "       0.50352719, 0.50276396, 0.50192332, 0.501006  , 0.50001269,\n",
       "       0.49894405, 0.4978007 , 0.49658324, 0.49529223, 0.4939282 ,\n",
       "       0.49249166, 0.49098307, 0.48940289, 0.48775153, 0.48602939,\n",
       "       0.48423682, 0.48237418, 0.48044177, 0.47843988, 0.47636879,\n",
       "       0.47422873, 0.47201993, 0.46974257, 0.46739684, 0.46498288,\n",
       "       0.46250083, 0.45995078, 0.45733283, 0.45464705, 0.45189347,\n",
       "       0.44907212, 0.446183  , 0.4432261 , 0.44020137, 0.43710875,\n",
       "       0.43394817, 0.43071952, 0.42742269, 0.42405753, 0.42062389])"
      ]
     },
     "execution_count": 101,
     "metadata": {},
     "output_type": "execute_result"
    },
    {
     "data": {
      "image/png": "[encoded data removed]",
      "text/plain": [
       "<Figure size 360x288 with 2 Axes>"
      ]
     },
     "metadata": {
      "needs_background": "light"
     },
     "output_type": "display_data"
    }
   ],
   "source": [
    "# I am using order of magnitude values from illustrative purposes. \n",
    "nm=300\n",
    "nm2=np.int(nm/2)\n",
    "nL=np.linspace(0,nm,nm)\n",
    "#ntot=501 #g/l\n",
    "#phi=0\n",
    "#nstot=6000\n",
    "#xstar=0.01\n",
    "#betasigmaprime=10# \n",
    "ntot=301 #g/l\n",
    "phi=5\n",
    "nstot=30000\n",
    "xstar=0.00095\n",
    "betasigmaprime=3# \n",
    "\n",
    "#figure\n",
    "figure=plt.figure()\n",
    "ax2 = figure.add_axes([0.1,0.1,1.7,1.2])\n",
    "ax2.tick_params(axis ='y', labelcolor = 'blue')\n",
    "ax2.set_ylabel('$\\Delta$F', fontsize=24, color='blue');\n",
    "\n",
    "#Free Energy\n",
    "plt.plot(nL,F(nL,ntot,phi,nstot,xstar,betasigmaprime),'b',linewidth=1)\n",
    "plt.show\n",
    "plt.plot(nL,np.zeros(np.shape(nL)),'b--',linewidth=1)\n",
    "\n",
    "ax1 = ax2.twinx() \n",
    "ax1.set_ylabel('d$\\Delta$F/dn$_L$', fontsize=24, color='red')\n",
    "ax1.plot(nL,np.zeros(np.shape(nL)),'r--',linewidth=1)\n",
    "#Mean Force\n",
    "ax1.plot(nL,(dFdnL(nL,ntot,phi,nstot,xstar,betasigmaprime)),'r',linewidth=1)\n",
    "ax1.plot(nL,np.abs((dFdnL(nL,ntot,phi,nstot,xstar,betasigmaprime))),'g',linewidth=1)\n",
    "\n",
    "\n",
    "Ftot=F(nL,ntot,phi,nstot,xstar,betasigmaprime);\n",
    "ax2.plot(nL[np.argmax(Ftot[0:np.argmin(Ftot)])],np.max(Ftot[0:np.argmin(Ftot)]),'ob',markersize=5)\n",
    "ax2.plot(nL[np.argmin(Ftot)],np.min(Ftot),'ob',markersize=5)\n",
    "ax1.plot(nL[np.argmin(Ftot)],0,'xb',markersize=10)\n",
    "ax1.plot(nL[np.argmax(Ftot[0:np.argmin(Ftot)])],0,'xb',markersize=10)\n",
    "ax1.tick_params(axis ='y', labelcolor = 'red', right = True , labelright = True ) \n",
    "\n",
    "dFdnltot = np.abs(dFdnL(nL,ntot,phi,nstot,xstar,betasigmaprime))\n",
    "plt.savefig('FES_and_dFdnL', dpi=600, bbox_inches='tight')\n",
    "\n",
    "print(nL[np.argmax(Ftot[:nm2])])\n",
    "print(nL[np.argmin(dFdnltot[1:nm2])]+1)\n",
    "print(nL[np.argmin(Ftot)])\n",
    "print(nL[nm2+np.argmin(dFdnltot[nm2:])]+1)\n",
    "\n",
    "dFdnltot[:nm2]"
   ]
  },
  {
   "cell_type": "code",
   "execution_count": 94,
   "metadata": {},
   "outputs": [
    {
     "data": {
      "text/plain": [
       "[<matplotlib.lines.Line2D at 0x7f4f1286f438>]"
      ]
     },
     "execution_count": 94,
     "metadata": {},
     "output_type": "execute_result"
    },
    {
     "data": {
      "image/png": "[encoded data removed]",
      "text/plain": [
       "<Figure size 360x288 with 1 Axes>"
      ]
     },
     "metadata": {
      "needs_background": "light"
     },
     "output_type": "display_data"
    }
   ],
   "source": [
    "ntot=301 #g/l\n",
    "nstot=30000\n",
    "xstar=0.00095\n",
    "betasigmaprime=3# \n",
    "phi=5\n",
    "dx = nL[1]-nL[0]\n",
    "\n",
    "\n",
    "f1 = ntot*np.log(X(nL,ntot,phi,nstot)/X(0,ntot,phi,nstot)) + nstot*np.log((1-X(nL,ntot,phi,nstot))/(1-X(0,ntot,phi,nstot)))\n",
    "d1 = (phi*ntot-nstot)/np.power(Nltot(nL,ntot,phi,nstot),2)*(ntot/X(nL,ntot,phi,nstot)+nstot/(X(nL,ntot,phi,nstot)-1)) \n",
    "dn1 = signal.savgol_filter(f1, window_length=5, polyorder=1, mode=\"nearest\", deriv=1)\n",
    "dn1f = np.diff(f1)/dx\n",
    "nLd = nL[:-1:] \n",
    "\n",
    "#plt.plot(nL[:-10],d1[:-10]-dn1[:-10])\n",
    "plt.plot(nL[:-1],dn1f)\n",
    "plt.plot(nL[:],d1[:])\n",
    "plt.plot(nL[:],dn1[:])\n",
    "#plt.xlim([0,50])\n",
    "#plt.ylim([-0.1,0.1])\n",
    "#plt.plot(nL,dn1)\n",
    "#-np.log(X(nL,ntot,phi,nstot)/xstar)-phi*np.log((1-X(nL,ntot,phi,nstot)/(1-xstar))) \n",
    "#-nL*(ntot*phi-nstot)/Nltot(nL,ntot,phi,nstot)*(1/(ntot-nL)-phi/(nstot-phi*nL)) \n",
    "#2/3*betasigmaprime*np.power((1+phi),2/3)*np.power((nL*(1+phi)),-1/3)"
   ]
  },
  {
   "cell_type": "code",
   "execution_count": 92,
   "metadata": {},
   "outputs": [
    {
     "data": {
      "text/plain": [
       "[<matplotlib.lines.Line2D at 0x7f4f1261b8d0>]"
      ]
     },
     "execution_count": 92,
     "metadata": {},
     "output_type": "execute_result"
    },
    {
     "data": {
      "image/png": "[encoded data removed]",
      "text/plain": [
       "<Figure size 360x288 with 1 Axes>"
      ]
     },
     "metadata": {
      "needs_background": "light"
     },
     "output_type": "display_data"
    }
   ],
   "source": [
    "\n",
    "f2 =-nL*(np.log(X(nL,ntot,phi,nstot)/xstar))-nL*phi*np.log((1-X(nL,ntot,phi,nstot))/(1-xstar))\n",
    "d2 = -np.log(X(nL,ntot,phi,nstot)/xstar)-phi*np.log((1-X(nL,ntot,phi,nstot)/(1-xstar))) -nL*(ntot*phi-nstot)/Nltot(nL,ntot,phi,nstot)*(1/(ntot-nL)-phi/(nstot-phi*nL))\n",
    "dn2 = signal.savgol_filter(f2, window_length=5, polyorder=1, mode=\"nearest\", deriv=1)\n",
    "dn2f = np.diff(f2)/dx\n",
    "\n",
    "plt.plot(nL[:-1],dn2f)\n",
    "plt.plot(nL[:],d2[:])\n",
    "plt.plot(nL[:],dn2[:])\n",
    "#plt.xlim([0,50])\n",
    "#plt.ylim([-10,0])"
   ]
  },
  {
   "cell_type": "code",
   "execution_count": 85,
   "metadata": {},
   "outputs": [
    {
     "data": {
      "text/plain": [
       "[<matplotlib.lines.Line2D at 0x7f4f1353b438>]"
      ]
     },
     "execution_count": 85,
     "metadata": {},
     "output_type": "execute_result"
    },
    {
     "data": {
      "image/png": "[encoded data removed]",
      "text/plain": [
       "<Figure size 360x288 with 1 Axes>"
      ]
     },
     "metadata": {
      "needs_background": "light"
     },
     "output_type": "display_data"
    }
   ],
   "source": [
    "f3 = betasigmaprime*np.power((nL*(1+phi)),2/3)\n",
    "#d3 = 2/3*betasigmaprime*np.power((1+phi),2/3)*np.power((nL*(1+phi)),-1/3)\n",
    "d3 = (2*betasigmaprime*np.power((1+phi)*nL,2/3)) / (3*nL)\n",
    "dn3 = signal.savgol_filter(f3, window_length=5, polyorder=1, mode=\"nearest\", deriv=1)\n",
    "dn3f = np.diff(f3)/dx\n",
    "\n",
    "plt.plot(nL[:-1],dn3f)\n",
    "plt.plot(nL[:],d3[:])\n",
    "plt.plot(nL[:],dn3[:])\n",
    "#plt.xlim([0,50])\n",
    "#plt.ylim([-10,0])"
   ]
  },
  {
   "cell_type": "code",
   "execution_count": 7,
   "metadata": {},
   "outputs": [
    {
     "data": {
      "text/plain": [
       "[<matplotlib.lines.Line2D at 0x7f4f14cb4dd8>]"
      ]
     },
     "execution_count": 7,
     "metadata": {},
     "output_type": "execute_result"
    },
    {
     "data": {
      "image/png": "[encoded data removed]",
      "text/plain": [
       "<Figure size 360x288 with 1 Axes>"
      ]
     },
     "metadata": {
      "needs_background": "light"
     },
     "output_type": "display_data"
    }
   ],
   "source": [
    "phi=0.0001\n",
    "d1 = 2/3*betasigmaprime*np.power((1+phi),2/3)*np.power((nL*(1+phi)),-1/3)\n",
    "phi=50\n",
    "d2 = 2/3*betasigmaprime*np.power((1+phi),2/3)*np.power((nL*(1+phi)),-1/3)\n",
    "\n",
    "plt.plot(nL,d2-d1)"
   ]
  },
  {
   "cell_type": "code",
   "execution_count": 8,
   "metadata": {},
   "outputs": [
    {
     "data": {
      "text/plain": [
       "[<matplotlib.lines.Line2D at 0x7f4f14bda240>]"
      ]
     },
     "execution_count": 8,
     "metadata": {},
     "output_type": "execute_result"
    },
    {
     "data": {
      "image/png": "[encoded data removed]",
      "text/plain": [
       "<Figure size 360x288 with 1 Axes>"
      ]
     },
     "metadata": {
      "needs_background": "light"
     },
     "output_type": "display_data"
    }
   ],
   "source": [
    "f1 = np.abs(a1+b1+c1+d1)\n",
    "f2 = np.abs(a2+b2+c2+d2)\n",
    "\n",
    "plt.plot(nL,f1)\n",
    "plt.plot(nL,f2)"
   ]
  },
  {
   "cell_type": "code",
   "execution_count": 9,
   "metadata": {},
   "outputs": [],
   "source": [
    "# Redefine dFdnL for optimization\n",
    "# Error function -> corresponds to dFdnL as we want to compute its zero\n",
    "# tpl: tuple of fitted parameters, \n",
    "# tpl[0]: xstar\n",
    "# tpl[1]: betasigmaprime\n",
    "#tpl = [xstar,betasigmaprime]\n",
    "\n",
    "ERR=lambda tpl, nL, ntot, phi, nstot, : \\\n",
    "                                    (phi*ntot-nstot)/np.power(Nltot(nL,ntot,phi,nstot),2)*(ntot/X(nL,ntot,phi,nstot)+nstot/(X(nL,ntot,phi,nstot)-1)) \\\n",
    "                                    -np.log(X(nL,ntot,phi,nstot)/tpl[0])-phi*np.log((1-X(nL,ntot,phi,nstot)/(1-tpl[0]))) \\\n",
    "                                    -nL*(ntot*phi-nstot)/Nltot(nL,ntot,phi,nstot)*(1/(ntot-nL)-phi/(nstot-phi*nL)) \\\n",
    "                                    +2/3*tpl[1]*np.power((1+phi),2/3)*np.power((nL*(1+phi)),-1/3)\n",
    "\n",
    "# I have left here a random set of parameters, here you should introduce one line per simulation to define SIMS_data\n",
    "# Simulation data:  ntot nstot phi nl_steadystate\n",
    "'''\n",
    "SIMS_data=np.array([(100,40000,8.2,22.4),         #100b014\n",
    "                    (100,30000,5.4,79),           #100b018\n",
    "                    (100,20000,5.4,81),           #100b028\n",
    "                    (100,10000,5.8,92),           #100b055 \n",
    "                    (100,8000,5.5,90.7),          #100b069\n",
    "                    (100,6000,4.7,92.2),          #100b092\n",
    "                    (150,15000,5.9,133.1),        #150b055 \n",
    "                    (200,20000,5.8,189.2),        #200b055\n",
    "                    (250,25000,6.3,225.4),        #250b055\n",
    "                    (300,30000,8.7,270.8),        #300b055\n",
    "                    (50,5000,5.2,45.3),           #50b055\n",
    "                   ])\n",
    "'''\n",
    "\n",
    "SIMS_data=np.array([(100,30000,5.4,79),           #100b018\n",
    "                    (100,20000,5.4,81),           #100b028\n",
    "                    (100,10000,5.8,92),           #100b055 \n",
    "                    (100,8000,5.5,90.7),          #100b069\n",
    "                    (100,6000,4.7,92.2),          #100b092\n",
    "                    (150,15000,5.9,133.1),        #150b055 \n",
    "                    (200,20000,5.8,189.2),        #200b055\n",
    "                    (250,25000,6.3,225.4),        #250b055\n",
    "                    (300,30000,6.1,270.8),        #300b055 - smaller cutoff\n",
    "                    (50,5000,5.2,45.3),           #50b055\n",
    "                   ])\n",
    "\n",
    "\n",
    "Nsimulations=np.shape(SIMS_data)[0]  "
   ]
  },
  {
   "cell_type": "code",
   "execution_count": 10,
   "metadata": {},
   "outputs": [],
   "source": [
    "REPS=10 #number of bootstrap samples \n",
    "CEQ=np.zeros(REPS)\n",
    "SIGMA=np.zeros(REPS)\n",
    "\n",
    "#Bootstrapping-like error calculation with random selection of N experiments with repetition\n",
    "for REP in np.arange(0,REPS):\n",
    "    #Randomise Initial Guess\n",
    "    guess=[0.1,1]\n",
    "    #choose Nsimulations random simulations (with repetition)\n",
    "    simulations=np.random.randint(0,Nsimulations,Nsimulations)  \n",
    "    \n",
    "    ERRargs = (SIMS_data[simulations,3],SIMS_data[simulations,0],SIMS_data[simulations,2],SIMS_data[simulations,1])\n",
    "\n",
    "    #least squares fitting\n",
    "    #tplFitted => tuple of fitted parameters\n",
    "    tplFitted,success=leastsq(ERR,guess,args=ERRargs,full_output=0,maxfev=1000,ftol=1E-15,gtol=1E-15)\n",
    "\n",
    "    CEQ[REP]=tplFitted[0]\n",
    "    SIGMA[REP]=tplFitted[1]\n",
    "                              \n",
    "\n"
   ]
  },
  {
   "cell_type": "code",
   "execution_count": 11,
   "metadata": {},
   "outputs": [
    {
     "name": "stdout",
     "output_type": "stream",
     "text": [
      "0.0015108426593827043 0.0002952247264014963\n",
      "-1.1488289297331247 0.5419527717409859\n"
     ]
    }
   ],
   "source": [
    "print(np.mean(CEQ),np.std(CEQ)/np.sqrt(10))\n",
    "print(np.mean(SIGMA),np.std(SIGMA)/np.sqrt(10))"
   ]
  },
  {
   "cell_type": "code",
   "execution_count": null,
   "metadata": {},
   "outputs": [],
   "source": []
  }
 ],
 "metadata": {
  "kernelspec": {
   "display_name": "Python 3",
   "language": "python",
   "name": "python3"
  },
  "language_info": {
   "codemirror_mode": {
    "name": "ipython",
    "version": 3
   },
   "file_extension": ".py",
   "mimetype": "text/x-python",
   "name": "python",
   "nbconvert_exporter": "python",
   "pygments_lexer": "ipython3",
   "version": "3.7.3"
  }
 },
 "nbformat": 4,
 "nbformat_minor": 5
}
